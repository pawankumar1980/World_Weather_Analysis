{
 "cells": [
  {
   "cell_type": "code",
   "execution_count": null,
   "id": "83f742ab",
   "metadata": {},
   "outputs": [],
   "source": [
    "import pandas as pd\n",
    "import matplotlib.pyplot as plt\n",
    "import numpy as np\n",
    "import random\n",
    "from citipy import citipy\n",
    "from datetime import datetime \n",
    "from config import weather_api_key\n",
    "import requests\n",
    "import time\n"
   ]
  },
  {
   "cell_type": "code",
   "execution_count": null,
   "id": "c3f2f85a",
   "metadata": {},
   "outputs": [],
   "source": [
    "# Create list for weather data\n",
    "city_data = []\n",
    "\n",
    "# Print the beginning of the logging\n",
    "print(\"Beginning Data Retrieval     \")\n",
    "print(\"-----------------------------\")\n",
    "\n",
    "# Create counters\n",
    "record_count = 1\n",
    "set_count = 1"
   ]
  },
  {
   "cell_type": "code",
   "execution_count": null,
   "id": "ce8f7310",
   "metadata": {},
   "outputs": [],
   "source": [
    "# Create basic url for API\n",
    "url = \"http://api.openweathermap.org/data/2.5/weather?units=Imperial&APPID=\" + weather_api_key"
   ]
  },
  {
   "cell_type": "code",
   "execution_count": null,
   "id": "d95cc488",
   "metadata": {},
   "outputs": [],
   "source": [
    "# Create 1500 random latitude and longitude coordinates \n",
    "latitudes = np.random.uniform(-90, 90, size = 1500)\n",
    "longitudes = np.random.uniform(-180, 180, size = 1500)\n",
    "coordinates = zip(latitudes, longitudes)\n",
    "coordinates"
   ]
  },
  {
   "cell_type": "code",
   "execution_count": null,
   "id": "0d07b1c2",
   "metadata": {},
   "outputs": [],
   "source": [
    "# Add coordinates to a list \n",
    "coordinates_lst = list(coordinates)"
   ]
  },
  {
   "cell_type": "code",
   "execution_count": null,
   "id": "4fa05203",
   "metadata": {},
   "outputs": [],
   "source": [
    "# Create list for cities \n",
    "cities = []\n",
    "\n",
    "# Use citipy to find nearest cities using coordinate list\n",
    "for coordinate in coordinates_lst:\n",
    "    city = citipy.nearest_city(coordinate[0],coordinate[1])\n",
    "    city_name = city.city_name\n",
    "    country_name = city.country_code\n",
    "    \n",
    "    # Find unique cities to add to cities list\n",
    "    if city_name not in cities:\n",
    "        cities.append(city_name)\n",
    "    \n",
    "    # See cities and contries\n",
    "    # print(f'{city_name}, {country_name}')\n",
    "\n",
    "# Count amount of unique cities\n",
    "len(cities)"
   ]
  },
  {
   "cell_type": "code",
   "execution_count": null,
   "id": "57e54629",
   "metadata": {},
   "outputs": [],
   "source": [
    "# Loop through city Lists \n",
    "for i, city in enumerate(cities):\n",
    "    \n",
    "    # Group cities in sets of 50 \n",
    "    if (i % 50 == 0 and i >= 50):\n",
    "        set_count += 1 \n",
    "        record_count = 1 \n",
    "    \n",
    "    # Create URL for each city\n",
    "    city_url = url + \"&q=\" + city.replace(\" \",\"+\")\n",
    "    \n",
    "    # Log URL, set, and record numbers for each city\n",
    "    print(f\"Processing Record {record_count} of Set {set_count} | {city}\")\n",
    "    record_count += 1\n",
    "\n",
    "# Make an API request for each city \n",
    "    try:\n",
    "       \n",
    "        # Parse the JSON data\n",
    "        city_weather = requests.get(city_url).json()\n",
    "\n",
    "        # Compile needed data\n",
    "        city_city = city.title()\n",
    "        city_country = city_weather['sys']['country']\n",
    "        city_date = datetime.utcfromtimestamp(city_weather['dt']).strftime('%Y-%m-%d %H:%M:%S')\n",
    "        city_lat = city_weather['coord']['lat']\n",
    "        city_lng = city_weather['coord']['lon']\n",
    "        city_max_temp = city_weather['main']['temp_max']\n",
    "        city_hum = city_weather['main']['humidity']\n",
    "        city_cloud = city_weather['clouds']['all']\n",
    "        city_wind = city_weather['wind']['speed']\n",
    "\n",
    "        # Fill City Data list \n",
    "        city_data.append({\"City\": city_city,\n",
    "                         \"Country\": city_country,\n",
    "                         \"Date\": city_date,\n",
    "                         \"Lat\": city_lat,\n",
    "                         \"Lng\": city_lng,\n",
    "                         \"Max Temp\": city_max_temp,\n",
    "                         \"Humidity\": city_hum,\n",
    "                         \"Cloudiness\": city_cloud,\n",
    "                         \"Wind Speed\": city_wind,\n",
    "                         })\n",
    "    #If an error occurs\n",
    "    except: \n",
    "        print(\"City not found. Skipping\")\n",
    "        pass\n",
    "\n",
    "    # Complete Data Retrieval    \n",
    "print(\"-----------------------------\")\n",
    "print(\"Data Retrieval Complete      \")\n",
    "print(\"-----------------------------\")"
   ]
  },
  {
   "cell_type": "code",
   "execution_count": null,
   "id": "62e1c91c",
   "metadata": {},
   "outputs": [],
   "source": [
    "# Convert the array of dictionaries to a Pandas DataFrame.\n",
    "city_data_df = pd.DataFrame(city_data)\n",
    "city_data_df.head(10)"
   ]
  },
  {
   "cell_type": "code",
   "execution_count": null,
   "id": "4fb12cd8",
   "metadata": {},
   "outputs": [],
   "source": [
    "# Create the output file (CSV).\n",
    "output_data_file = \"weather_data/cities.csv\"\n",
    "# Export the City_Data into a CSV.\n",
    "city_data_df.to_csv(output_data_file, index_label=\"City_ID\")"
   ]
  },
  {
   "cell_type": "code",
   "execution_count": null,
   "id": "7b5d5645",
   "metadata": {},
   "outputs": [],
   "source": [
    "# Extract relevant fields from the DataFrame for plotting.\n",
    "lats = city_data_df[\"Lat\"]\n",
    "max_temps = city_data_df[\"Max Temp\"]\n",
    "humidity = city_data_df[\"Humidity\"]\n",
    "cloudiness = city_data_df[\"Cloudiness\"]\n",
    "wind_speed = city_data_df[\"Wind Speed\"]"
   ]
  },
  {
   "cell_type": "code",
   "execution_count": null,
   "id": "3466f55a",
   "metadata": {},
   "outputs": [],
   "source": [
    "# Import time module\n",
    "import time\n",
    "\n",
    "# Build the scatter plot for latitude vs. max temperature.\n",
    "plt.scatter(lats,\n",
    "            max_temps,\n",
    "            edgecolor=\"black\", linewidths=1, marker=\"o\",\n",
    "            alpha=0.8, label=\"Cities\")\n",
    "\n",
    "# Incorporate the other graph properties.\n",
    "plt.title(f\"City Latitude vs. Max Temperature \"+ time.strftime(\"%x\"))\n",
    "plt.ylabel(\"Max Temperature (F)\")\n",
    "plt.xlabel(\"Latitude\")\n",
    "plt.grid(True)\n",
    "\n",
    "# Save the figure.\n",
    "plt.savefig(\"weather_data/Fig1.png\")\n",
    "\n",
    "# Show plot.\n",
    "plt.show()"
   ]
  },
  {
   "cell_type": "code",
   "execution_count": null,
   "id": "03804c58",
   "metadata": {},
   "outputs": [],
   "source": []
  }
 ],
 "metadata": {
  "kernelspec": {
   "display_name": "PythonData",
   "language": "python",
   "name": "pythondata"
  },
  "language_info": {
   "codemirror_mode": {
    "name": "ipython",
    "version": 3
   },
   "file_extension": ".py",
   "mimetype": "text/x-python",
   "name": "python",
   "nbconvert_exporter": "python",
   "pygments_lexer": "ipython3",
   "version": "3.9.12"
  }
 },
 "nbformat": 4,
 "nbformat_minor": 5
}
